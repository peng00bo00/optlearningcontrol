{
 "cells": [
  {
   "cell_type": "code",
   "execution_count": 1,
   "metadata": {},
   "outputs": [],
   "source": [
    "import matplotlib.pyplot as plt\n",
    "import matplotlib as mp\n",
    "import matplotlib.animation as animation\n",
    "import numpy as np\n",
    "import IPython\n",
    "\n",
    "from envs.Quadrotor import Quadrotor"
   ]
  },
  {
   "cell_type": "code",
   "execution_count": 2,
   "metadata": {},
   "outputs": [],
   "source": [
    "m = 1.0\n",
    "I = 1.0\n",
    "r = 1.0\n",
    "\n",
    "quadrotor = Quadrotor(m, I, r)"
   ]
  },
  {
   "cell_type": "code",
   "execution_count": 3,
   "metadata": {},
   "outputs": [],
   "source": [
    "quadrotor = Quadrotor(m, I, r)\n",
    "u = np.array([10, 10])\n",
    "\n",
    "for i in range(50):\n",
    "    quadrotor.step(u)"
   ]
  },
  {
   "cell_type": "code",
   "execution_count": 4,
   "metadata": {},
   "outputs": [],
   "source": [
    "fig = mp.figure.Figure(figsize=[8, 8])\n",
    "mp.backends.backend_agg.FigureCanvasAgg(fig)\n",
    "ax = fig.add_subplot(111, autoscale_on=False, xlim=[-2, 12], ylim=[-2, 12])\n",
    "ax.grid()\n",
    "\n",
    "#create the quadrotor\n",
    "center, = ax.plot([], [], 'k', marker=\"o\")\n",
    "lines = []\n",
    "    \n",
    "for i in range(8):\n",
    "    line, = ax.plot([], [], 'k', lw=2)\n",
    "    lines.append(line)"
   ]
  },
  {
   "cell_type": "code",
   "execution_count": 5,
   "metadata": {},
   "outputs": [],
   "source": [
    "def drawQuadrotor(quadrotor, ax, center, lines, t):\n",
    "    r = quadrotor.r\n",
    "    h = r/2\n",
    "    x, y, theta, u, v, omega = quadrotor.x\n",
    "    \n",
    "    for line in lines: #reset all lines\n",
    "        line.set_data([],[])\n",
    "    \n",
    "    R = np.array([[np.cos(theta), -np.sin(theta)], [np.sin(theta), np.cos(theta)]])\n",
    "    t = np.array([[x], [y]])\n",
    "    \n",
    "    A = np.array([-r, h/2])\n",
    "    B = np.array([ r, h/2])\n",
    "    C = np.array([ r,-h/2])\n",
    "    D = np.array([-r,-h/2])\n",
    "    \n",
    "    E = np.array([-r+h/2, h/2])\n",
    "    F = np.array([-r+h/2, h   ])\n",
    "    G = np.array([ r-h/2, h/2])\n",
    "    H = np.array([ r-h/2, h   ])\n",
    "    \n",
    "    I = np.array([F[0]-h*np.cos(np.pi*t), F[1]])\n",
    "    J = np.array([F[0]+h*np.cos(np.pi*t), F[1]])\n",
    "    K = np.array([H[0]-h*np.cos(np.pi*t), H[1]])\n",
    "    L = np.array([H[0]+h*np.cos(np.pi*t), H[1]])\n",
    "    \n",
    "    coords = np.vstack([A, B, C, D, E, F, G, H, I, J, K, L])\n",
    "    coords = coords.T\n",
    "    \n",
    "    coords = R @ coords + t\n",
    "    \n",
    "    A = coords[:, 0]\n",
    "    B = coords[:, 1]\n",
    "    C = coords[:, 2]\n",
    "    D = coords[:, 3]\n",
    "    E = coords[:, 4]\n",
    "    F = coords[:, 5]\n",
    "    G = coords[:, 6]\n",
    "    H = coords[:, 7]\n",
    "    I = coords[:, 8]\n",
    "    J = coords[:, 9]\n",
    "    K = coords[:, 10]\n",
    "    L = coords[:, 11]\n",
    "    \n",
    "    center.set_data([x], [y])\n",
    "    \n",
    "    lines[0].set_data([A[0], B[0]], [A[1], B[1]])\n",
    "    lines[1].set_data([B[0], C[0]], [B[1], C[1]])\n",
    "    lines[2].set_data([C[0], D[0]], [C[1], D[1]])\n",
    "    lines[3].set_data([A[0], D[0]], [A[1], D[1]])\n",
    "    \n",
    "    lines[4].set_data([E[0], F[0]], [E[1], F[1]])\n",
    "    lines[5].set_data([G[0], H[0]], [G[1], H[1]])\n",
    "    \n",
    "    lines[6].set_data([I[0], J[0]], [I[1], J[1]])\n",
    "    lines[7].set_data([K[0], L[0]], [K[1], L[1]])\n",
    "    \n",
    "    return lines"
   ]
  },
  {
   "cell_type": "code",
   "execution_count": 16,
   "metadata": {},
   "outputs": [],
   "source": [
    "def animate_quadrotor(quadrotor, controller, horizon):\n",
    "    dt = quadrotor.dt\n",
    "    \n",
    "    fig = mp.figure.Figure(figsize=[12, 12])\n",
    "    mp.backends.backend_agg.FigureCanvasAgg(fig)\n",
    "    ax = fig.add_subplot(111, autoscale_on=False, xlim=[-2, 42], ylim=[-2, 42])\n",
    "    ax.grid()\n",
    "\n",
    "    #create the quadrotor\n",
    "    center, = ax.plot([], [], 'k', marker=\"o\")\n",
    "    lines = []\n",
    "\n",
    "    for i in range(8):\n",
    "        line, = ax.plot([], [], 'k', lw=2)\n",
    "        lines.append(line)\n",
    "    \n",
    "    # simulate with controller\n",
    "    def animate(i):\n",
    "        nonlocal lines\n",
    "        t = dt * i\n",
    "        lines = drawQuadrotor(quadrotor, ax, center, lines, t)\n",
    "        u = controller(quadrotor.x)\n",
    "        quadrotor.step(u)\n",
    "        return lines\n",
    "        \n",
    "    def init():\n",
    "        return animate(0)\n",
    "    \n",
    "    ani = animation.FuncAnimation(fig, animate, np.arange(0, horizon),\n",
    "        interval=1000*dt, blit=True, init_func=init)\n",
    "    plt.close(fig)\n",
    "    plt.close(ani._fig)\n",
    "    IPython.display.display_html(IPython.core.display.HTML(ani.to_html5_video()))"
   ]
  },
  {
   "cell_type": "code",
   "execution_count": 17,
   "metadata": {},
   "outputs": [],
   "source": [
    "def controller(x):\n",
    "    return np.random.randint(0, 20, 2)"
   ]
  },
  {
   "cell_type": "code",
   "execution_count": null,
   "metadata": {},
   "outputs": [],
   "source": [
    "quadrotor = Quadrotor(m, I, r)\n",
    "\n",
    "animate_quadrotor(quadrotor, controller, 1000)"
   ]
  },
  {
   "cell_type": "code",
   "execution_count": null,
   "metadata": {},
   "outputs": [],
   "source": []
  }
 ],
 "metadata": {
  "kernelspec": {
   "display_name": "Python 3",
   "language": "python",
   "name": "python3"
  },
  "language_info": {
   "codemirror_mode": {
    "name": "ipython",
    "version": 3
   },
   "file_extension": ".py",
   "mimetype": "text/x-python",
   "name": "python",
   "nbconvert_exporter": "python",
   "pygments_lexer": "ipython3",
   "version": "3.7.6"
  }
 },
 "nbformat": 4,
 "nbformat_minor": 4
}
