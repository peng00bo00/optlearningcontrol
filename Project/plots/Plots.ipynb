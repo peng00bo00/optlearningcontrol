{
 "cells": [
  {
   "cell_type": "code",
   "execution_count": 1,
   "metadata": {},
   "outputs": [],
   "source": [
    "import numpy as np\n",
    "import tensorflow as tf\n",
    "import gym\n",
    "import matplotlib.pyplot as plt"
   ]
  },
  {
   "cell_type": "code",
   "execution_count": 2,
   "metadata": {},
   "outputs": [],
   "source": [
    "def play(env, policy):\n",
    "    \n",
    "    x = env.reset()\n",
    "    terminal = False\n",
    "    rewards = []\n",
    "\n",
    "    while not terminal:\n",
    "        \n",
    "        u = policy.predict(x.reshape([1, -1]))\n",
    "        u = np.argmax(u)\n",
    "        x, r, terminal, _ = env.step(u)\n",
    "\n",
    "        rewards.append(r)\n",
    "    \n",
    "    return np.sum(rewards)"
   ]
  },
  {
   "cell_type": "code",
   "execution_count": 3,
   "metadata": {},
   "outputs": [],
   "source": [
    "env = gym.make('CartPole-v0')"
   ]
  },
  {
   "cell_type": "markdown",
   "metadata": {},
   "source": [
    "## DQN"
   ]
  },
  {
   "cell_type": "code",
   "execution_count": null,
   "metadata": {},
   "outputs": [
    {
     "name": "stdout",
     "output_type": "stream",
     "text": [
      "WARNING:tensorflow:No training configuration found in save file: the model was *not* compiled. Compile it manually.\n"
     ]
    }
   ],
   "source": [
    "policy = tf.keras.models.load_model(\"../models/DQN_q_network.h5\")\n",
    "tf.keras.utils.plot_model(policy, to_file='q_network.png')\n",
    "dqn = []\n",
    "\n",
    "for i in range(1000):\n",
    "    rewards = play(env, policy)\n",
    "    dqn.append(rewards)"
   ]
  },
  {
   "cell_type": "markdown",
   "metadata": {},
   "source": [
    "## Double DQN"
   ]
  },
  {
   "cell_type": "code",
   "execution_count": null,
   "metadata": {},
   "outputs": [
    {
     "name": "stdout",
     "output_type": "stream",
     "text": [
      "WARNING:tensorflow:No training configuration found in save file: the model was *not* compiled. Compile it manually.\n"
     ]
    }
   ],
   "source": [
    "policy = tf.keras.models.load_model(\"../models/DoubleDQN_q_network.h5\")\n",
    "doubledqn = []\n",
    "\n",
    "for i in range(1000):\n",
    "    rewards = play(env, policy)\n",
    "\n",
    "    doubledqn.append(rewards)"
   ]
  },
  {
   "cell_type": "markdown",
   "metadata": {},
   "source": [
    "## Prioritized Experience Replay"
   ]
  },
  {
   "cell_type": "code",
   "execution_count": null,
   "metadata": {},
   "outputs": [],
   "source": [
    "policy = tf.keras.models.load_model(\"../models/PrioritizedDQN_q_network.h5\")\n",
    "pridqn = []\n",
    "\n",
    "for i in range(1000):\n",
    "    rewards = play(env, policy)\n",
    "\n",
    "    pridqn.append(rewards)"
   ]
  },
  {
   "cell_type": "markdown",
   "metadata": {},
   "source": [
    "## Deuling DQN"
   ]
  },
  {
   "cell_type": "code",
   "execution_count": null,
   "metadata": {},
   "outputs": [],
   "source": [
    "policy = tf.keras.models.load_model(\"../models/DeulDQN_q_network.h5\")\n",
    "tf.keras.utils.plot_model(policy, to_file='deuling_q_network.png')\n",
    "deuldqn = []\n",
    "\n",
    "for i in range(1000):\n",
    "    rewards = play(env, policy)\n",
    "\n",
    "    deuldqn.append(rewards)"
   ]
  },
  {
   "cell_type": "code",
   "execution_count": null,
   "metadata": {},
   "outputs": [],
   "source": [
    "import seaborn as sns\n",
    "\n",
    "plt.figure(figsize=(9, 6))\n",
    "plt.bar([\"DQN\", \"Double DQN\", \"Prioritized Experience Replay\", \"Deuling DQN\"], \n",
    "        [np.mean(dqn), np.mean(doubledqn), np.mean(pridqn), np.mean(deuldqn)],\n",
    "        yerr = [np.std(dqn), np.std(doubledqn), np.std(pridqn), np.std(deuldqn)],\n",
    "       color=[\"tab:blue\", \"tab:orange\", \"tab:green\", \"tab:red\"],\n",
    "       capsize=20)\n",
    "plt.ylabel(\"Average Rewards\")\n",
    "\n",
    "plt.tight_layout()\n",
    "plt.savefig(\"comparision.png\", dpi=300)"
   ]
  },
  {
   "cell_type": "code",
   "execution_count": null,
   "metadata": {},
   "outputs": [],
   "source": [
    "import pandas as pd\n",
    "\n",
    "df = pd.DataFrame({\"Model\": [\"DQN\", \"Double DQN\", \"Prioritized Experience Replay\", \"Deuling DQN\"],\n",
    "                                  \"Mean\": [np.mean(dqn), np.mean(doubledqn), np.mean(pridqn), np.mean(deuldqn)],\n",
    "                                  \"Std\": [np.std(dqn), np.std(doubledqn), np.std(pridqn), np.std(deuldqn)]\n",
    "                  })"
   ]
  },
  {
   "cell_type": "code",
   "execution_count": null,
   "metadata": {},
   "outputs": [],
   "source": [
    "print([np.std(dqn), np.std(doubledqn), np.std(pridqn), np.std(deuldqn)])"
   ]
  },
  {
   "cell_type": "code",
   "execution_count": null,
   "metadata": {},
   "outputs": [],
   "source": []
  }
 ],
 "metadata": {
  "kernelspec": {
   "display_name": "Python 3",
   "language": "python",
   "name": "python3"
  },
  "language_info": {
   "codemirror_mode": {
    "name": "ipython",
    "version": 3
   },
   "file_extension": ".py",
   "mimetype": "text/x-python",
   "name": "python",
   "nbconvert_exporter": "python",
   "pygments_lexer": "ipython3",
   "version": "3.7.6"
  }
 },
 "nbformat": 4,
 "nbformat_minor": 4
}
