{
 "cells": [
  {
   "cell_type": "code",
   "execution_count": 1,
   "metadata": {},
   "outputs": [],
   "source": [
    "import numpy as np\n",
    "import tensorflow as tf\n",
    "import gym\n",
    "\n",
    "from infrastructure.buffer import ReplayBuffer\n",
    "from utils.util import build_q_network, build_p_network, OrnsteinUhlenbeckActionNoise\n",
    "from agents.ddpg_agent import DDPGAgent\n",
    "from learners.ddpg_learner import DDPGLearner"
   ]
  },
  {
   "cell_type": "code",
   "execution_count": 2,
   "metadata": {},
   "outputs": [
    {
     "name": "stdout",
     "output_type": "stream",
     "text": [
      "Action Space:  Box(1,)\n",
      "Action Space H :  [1.]\n",
      "Action Space L :  [-1.]\n",
      "Obsrev Space:  Box(11,)\n",
      "Obsrev H:  [inf inf inf inf inf inf inf inf inf inf inf]\n",
      "Obsrev L:  [-inf -inf -inf -inf -inf -inf -inf -inf -inf -inf -inf]\n"
     ]
    }
   ],
   "source": [
    "env = gym.make(\"InvertedDoublePendulum-v2\")\n",
    "env.reset()\n",
    "\n",
    "## environment config\n",
    "print('Action Space: ', env.action_space)\n",
    "print('Action Space H : ', env.action_space.high)\n",
    "print('Action Space L : ', env.action_space.low)\n",
    "\n",
    "print('Obsrev Space: ', env.observation_space)\n",
    "print('Obsrev H: ',env.observation_space.high)\n",
    "print('Obsrev L: ',env.observation_space.low)\n",
    "\n",
    "## GPU configuration\n",
    "gpus = tf.config.experimental.list_physical_devices('GPU')\n",
    "for gpu in gpus:\n",
    "    tf.config.experimental.set_memory_growth(gpu, True)\n",
    "\n",
    "buffer = ReplayBuffer(10**4)\n",
    "n_states = env.observation_space.shape[0]\n",
    "n_actions = env.action_space.shape[0]\n",
    "\n",
    "noise = OrnsteinUhlenbeckActionNoise(np.zeros((1,1)), 0.05)\n",
    "\n",
    "# q_network = build_network(n_states+n_actions, 1, 3, 400)\n",
    "# p_network = build_network(n_states, n_actions, 3, 400, (-1, 1))\n",
    "q_network = build_q_network(n_states, n_actions)\n",
    "p_network = build_p_network(n_states, env.action_space.high[0])\n",
    "pg = DDPGAgent(q_network, p_network, 0.99, 1e-3, 1e-3, 1e-4)"
   ]
  },
  {
   "cell_type": "code",
   "execution_count": 3,
   "metadata": {
    "scrolled": true
   },
   "outputs": [
    {
     "name": "stdout",
     "output_type": "stream",
     "text": [
      "Start pre-sampling with random policy...\n",
      "Pre-sampling finished!\n",
      "Episode: 0, Episode Length: 11, Mean Cost: -9.205122438465317\n",
      "Models are saved to ./\n",
      "Episode: 1, Episode Length: 9, Mean Cost: -9.194553257846268\n",
      "Models are saved to ./\n",
      "Episode: 2, Episode Length: 9, Mean Cost: -9.182285654400651\n",
      "Models are saved to ./\n",
      "Episode: 3, Episode Length: 8, Mean Cost: -9.171710962830465\n",
      "Models are saved to ./\n",
      "Episode: 4, Episode Length: 9, Mean Cost: -9.176630289596652\n",
      "Models are saved to ./\n",
      "Episode: 5, Episode Length: 6, Mean Cost: -9.156272283504675\n",
      "Models are saved to ./\n",
      "Episode: 6, Episode Length: 5, Mean Cost: -9.07329919479283\n",
      "Models are saved to ./\n",
      "Episode: 7, Episode Length: 5, Mean Cost: -9.022322890867697\n",
      "Models are saved to ./\n",
      "Episode: 8, Episode Length: 4, Mean Cost: -9.073048113464708\n",
      "Models are saved to ./\n",
      "Episode: 9, Episode Length: 4, Mean Cost: -8.992952739075568\n",
      "Models are saved to ./\n",
      "Training finished!\n"
     ]
    }
   ],
   "source": [
    "trainer = DDPGLearner(env, buffer, pg, maximize=True, batch_size=64)\n",
    "hist = trainer.train(presample=100, noise=noise, episodes=10, interval=1, save_path=\"./\", save_name=\"DoubleInvertedPendulum\")"
   ]
  },
  {
   "cell_type": "code",
   "execution_count": 4,
   "metadata": {},
   "outputs": [
    {
     "data": {
      "text/plain": [
       "array([[0.02096988]])"
      ]
     },
     "execution_count": 4,
     "metadata": {},
     "output_type": "execute_result"
    }
   ],
   "source": [
    "noise()"
   ]
  },
  {
   "cell_type": "code",
   "execution_count": 5,
   "metadata": {},
   "outputs": [
    {
     "data": {
      "text/plain": [
       "array([0.5834904], dtype=float32)"
      ]
     },
     "execution_count": 5,
     "metadata": {},
     "output_type": "execute_result"
    }
   ],
   "source": [
    "env.action_space.sample()"
   ]
  },
  {
   "cell_type": "code",
   "execution_count": null,
   "metadata": {},
   "outputs": [],
   "source": []
  }
 ],
 "metadata": {
  "kernelspec": {
   "display_name": "Python 3",
   "language": "python",
   "name": "python3"
  },
  "language_info": {
   "codemirror_mode": {
    "name": "ipython",
    "version": 3
   },
   "file_extension": ".py",
   "mimetype": "text/x-python",
   "name": "python",
   "nbconvert_exporter": "python",
   "pygments_lexer": "ipython3",
   "version": "3.7.6"
  }
 },
 "nbformat": 4,
 "nbformat_minor": 4
}
